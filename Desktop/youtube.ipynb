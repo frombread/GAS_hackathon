{
 "cells": [
  {
   "cell_type": "markdown",
   "metadata": {},
   "source": [
    "# 유튜브 크롤링"
   ]
  },
  {
   "cell_type": "code",
   "execution_count": null,
   "metadata": {},
   "outputs": [],
   "source": [
    "from pytube import YouTube\n",
    "\n",
    "DOWNLOAD_FOLDER = \"d:\\\\\" #영상 저장할 경로 지정\n",
    "\n",
    "url = \"https://www.youtube.com/watch?v=u4OGk8NcamY\" #다운받고싶은 유튜브 링크\n",
    "\n",
    "yt = YouTube(url)\n",
    "\n",
    "\n",
    "stream = yt.streams.get_highest_resolution() #링크 크롤링\n",
    "\n",
    "stream.download(DOWNLOAD_FOLDER)\n",
    "\n",
    "print(\"제목 : \", yt.title)\n",
    "print(\"길이 : \", yt.length)\n",
    "print(\"게시자 : \", yt.author)\n",
    "print(\"게시날짜 : \", yt.publish_date)\n",
    "print(\"조회수 : \", yt.views)\n",
    "print(\"키워드 : \", yt.keywords)\n",
    "print(\"설명 : \", yt.description)\n",
    "print(\"썸네일 : \", yt.thumbnail_url)"
   ]
  }
 ],
 "metadata": {
  "kernelspec": {
   "display_name": "Python 3.9.12 ('base')",
   "language": "python",
   "name": "python3"
  },
  "language_info": {
   "codemirror_mode": {
    "name": "ipython",
    "version": 3
   },
   "file_extension": ".py",
   "mimetype": "text/x-python",
   "name": "python",
   "nbconvert_exporter": "python",
   "pygments_lexer": "ipython3",
   "version": "3.9.12"
  },
  "orig_nbformat": 4,
  "vscode": {
   "interpreter": {
    "hash": "ad2bdc8ecc057115af97d19610ffacc2b4e99fae6737bb82f5d7fb13d2f2c186"
   }
  }
 },
 "nbformat": 4,
 "nbformat_minor": 2
}
