{
 "cells": [
  {
   "cell_type": "code",
   "execution_count": 9,
   "metadata": {},
   "outputs": [],
   "source": [
    "import pandas as pd\n",
    "df = pd.read_csv(r'C:\\Users\\user\\Desktop\\공모전\\(해커톤대회)2022년 상품 데이터\\4.연체미납정보\\22. 연체미납정보 - 주택 현황\\KDG00056A_HousingNonPaymentQ1.csv',encoding=\"utf-8\")\n",
    "delay_data=df[['GM_VOL','AREA_NM','CTGG_NM','EMD_NM','CNTR_TYPE_CD','CNTR_TYPE_NM']]"
   ]
  },
  {
   "cell_type": "code",
   "execution_count": 12,
   "metadata": {},
   "outputs": [],
   "source": [
    "delay_data_1=delay_data.groupby([\"AREA_NM\",\"CTGG_NM\",\"EMD_NM\"]).count()\n",
    "delay_data_1=delay_data_1.reset_index()"
   ]
  },
  {
   "cell_type": "code",
   "execution_count": 13,
   "metadata": {},
   "outputs": [],
   "source": [
    "delay_data_1=delay_data_1[[\"AREA_NM\",\"CTGG_NM\",\"EMD_NM\",\"GM_VOL\"]]\n",
    "\n",
    "cols = ['AREA_NM', 'CTGG_NM',\"EMD_NM\"]\n",
    "delay_data_1['주소'] =delay_data_1[cols].apply(lambda row: ' '.join(row.values.astype(str)), axis=1)\n"
   ]
  },
  {
   "cell_type": "code",
   "execution_count": 15,
   "metadata": {},
   "outputs": [],
   "source": [
    "delay_data_1.to_csv(r\"C:\\Users\\user\\Desktop\\연체지연.csv\",encoding=\"utf-8-sig\")"
   ]
  },
  {
   "cell_type": "code",
   "execution_count": 18,
   "metadata": {},
   "outputs": [],
   "source": [
    "df = pd.read_csv(r'C:\\Users\\user\\Desktop\\울산시 행정동별_연체미납.csv',encoding=\"cp949\")\n"
   ]
  },
  {
   "cell_type": "code",
   "execution_count": 23,
   "metadata": {},
   "outputs": [],
   "source": [
    "dfdf=df.groupby([\"SIDO_NM\",\"SGG_NM\",\"EMDH_NM\"]).sum()\n",
    "dfdf=dfdf.reset_index()\n"
   ]
  },
  {
   "cell_type": "code",
   "execution_count": 25,
   "metadata": {},
   "outputs": [],
   "source": [
    "dfdf=dfdf[[\"SIDO_NM\",\"SGG_NM\",\"EMDH_NM\",\"GM_VOL\"]]"
   ]
  },
  {
   "cell_type": "code",
   "execution_count": 36,
   "metadata": {},
   "outputs": [],
   "source": [
    "df = pd.read_csv(r'C:\\Users\\user\\Desktop\\행정구역_읍면동_별_5세별_주민등록인구_2011년__20221217193703.csv',encoding=\"cp949\")"
   ]
  },
  {
   "cell_type": "code",
   "execution_count": 34,
   "metadata": {},
   "outputs": [],
   "source": [
    "cols = ['1', '2',\"3\"]\n",
    "df['주소'] =df[cols].apply(lambda row: ' '.join(row.values.astype(str)), axis=1)"
   ]
  },
  {
   "cell_type": "code",
   "execution_count": 35,
   "metadata": {},
   "outputs": [],
   "source": [
    "df.to_csv(r'C:\\Users\\user\\Desktop\\행정구역_읍면동_별_5세별_주민등록인구_2011년__20221217193703.csv',encoding=\"cp949\")"
   ]
  },
  {
   "attachments": {},
   "cell_type": "markdown",
   "metadata": {},
   "source": [
    "### shp 파일 변환"
   ]
  },
  {
   "cell_type": "code",
   "execution_count": 21,
   "metadata": {},
   "outputs": [],
   "source": [
    "import geopandas as gpd\n",
    "import pandas as pd\n",
    "file = gpd.read_file(r'C:\\Users\\user\\Desktop\\울산광역시 전처리 후 csv\\새 폴더\\울산 행정동경계.shp',encoding = \"cp949\")\n",
    "df = pd.read_csv(r'C:\\Users\\user\\Desktop\\울산광역시 전처리 후 csv\\최종.csv',encoding=\"cp949\")\n",
    "\n"
   ]
  },
  {
   "cell_type": "code",
   "execution_count": 22,
   "metadata": {},
   "outputs": [],
   "source": [
    "first_index = 0\n",
    "\n",
    "for a in df.iloc[:,3]:\n",
    "    in_de = file[file[\"EMDH_NM\"]== a].index\n",
    "    file.loc[in_de,\"score\"] = df.loc[first_index,\"점수산출\"]\n",
    "    first_index += 1\n",
    "file=file.fillna(0)"
   ]
  },
  {
   "cell_type": "code",
   "execution_count": 20,
   "metadata": {},
   "outputs": [],
   "source": [
    "file.to_file(r'C:\\Users\\user\\Desktop\\울산광역시 전처리 후 csv\\새 폴더\\울산 행정동경계 최종.shp',encoding = \"cp949\")"
   ]
  }
 ],
 "metadata": {
  "kernelspec": {
   "display_name": "base",
   "language": "python",
   "name": "python3"
  },
  "language_info": {
   "codemirror_mode": {
    "name": "ipython",
    "version": 3
   },
   "file_extension": ".py",
   "mimetype": "text/x-python",
   "name": "python",
   "nbconvert_exporter": "python",
   "pygments_lexer": "ipython3",
   "version": "3.9.12 (main, Apr  4 2022, 05:22:27) [MSC v.1916 64 bit (AMD64)]"
  },
  "orig_nbformat": 4,
  "vscode": {
   "interpreter": {
    "hash": "ad2bdc8ecc057115af97d19610ffacc2b4e99fae6737bb82f5d7fb13d2f2c186"
   }
  }
 },
 "nbformat": 4,
 "nbformat_minor": 2
}
