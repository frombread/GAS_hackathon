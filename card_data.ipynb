{
 "cells": [
  {
   "cell_type": "code",
   "execution_count": null,
   "metadata": {},
   "outputs": [],
   "source": [
    "import pandas as pd\n",
    "\n",
    "df2013= pd.read_csv(r'C:\\Users\\user\\Desktop\\카드 데이터\\card_data\\내국인\\creaditcard_P_2013.csv',encoding='cp949')\n",
    "df2014= pd.read_csv(r'C:\\Users\\user\\Desktop\\카드 데이터\\card_data\\내국인\\creaditcard_P_2014.csv',encoding='cp949')\n",
    "df2015= pd.read_csv(r'C:\\Users\\user\\Desktop\\카드 데이터\\card_data\\내국인\\creaditcard_P_2015.csv',encoding='cp949')\n",
    "df2016= pd.read_csv(r'C:\\Users\\user\\Desktop\\카드 데이터\\card_data\\내국인\\creaditcard_P_2016.csv',encoding='cp949')\n",
    "df2017= pd.read_csv(r'C:\\Users\\user\\Desktop\\카드 데이터\\card_data\\내국인\\creaditcard_P_2017.csv',encoding='cp949')\n",
    "df2018= pd.read_csv(r'C:\\Users\\user\\Desktop\\카드 데이터\\card_data\\내국인\\creaditcard_P_2018.csv',encoding='cp949')\n",
    "df2019= pd.read_csv(r'C:\\Users\\user\\Desktop\\카드 데이터\\card_data\\내국인\\creaditcard_P_2019.csv',encoding='cp949')\n",
    "df2020= pd.read_csv(r'C:\\Users\\user\\Desktop\\카드 데이터\\card_data\\내국인\\creaditcard_P_2020.csv',encoding='cp949')\n",
    "df2021_1= pd.read_csv(r'C:\\Users\\user\\Desktop\\카드 데이터\\card_data\\2021 정제\\202101_202109.csv',encoding='cp949')\n",
    "df2021_2= pd.read_csv(r'C:\\Users\\user\\Desktop\\카드 데이터\\card_data\\2021 정제\\2021_10.csv',encoding='cp949')\n",
    "df2021_3= pd.read_csv(r'C:\\Users\\user\\Desktop\\카드 데이터\\card_data\\2021 정제\\2021_11.csv',encoding='cp949')\n",
    "df2021_4= pd.read_csv(r'C:\\Users\\user\\Desktop\\카드 데이터\\card_data\\2021 정제\\2021_12.csv',encoding='cp949')\n",
    "df2021=pd.concat([df2021_1, df2021_2,df2021_3,df2021_4])\n",
    "df=pd.concat([df2013,df2014,df2015,df2016,df2017,df2018,df2019,df2020,df2021])\n",
    "#dfdf= pd.read_csv(r'C:\\Users\\user\\Desktop\\월정리\\월정리_격자200m.csv',encoding='cp949')"
   ]
  },
  {
   "cell_type": "code",
   "execution_count": null,
   "metadata": {},
   "outputs": [],
   "source": [
    "import pandas as pd\n",
    "\n",
    "df= pd.read_csv(r'C:\\Users\\user\\Desktop\\카드 데이터\\card_data\\2022 정제\\creaditcard_P_2022.csv',encoding='cp949')\n"
   ]
  },
  {
   "cell_type": "markdown",
   "metadata": {},
   "source": [
    "그리드랑 도민만 추출"
   ]
  },
  {
   "cell_type": "code",
   "execution_count": 5,
   "metadata": {},
   "outputs": [],
   "source": [
    "import pandas as pd\n",
    "NW=pd.read_csv(r'C:\\Users\\user\\Desktop\\월정리\\ALL_월정리.csv',encoding='cp949')\n",
    "WW=pd.read_csv(r'C:\\Users\\user\\Desktop\\카드 데이터\\빅데이터인턴쉽_2022_위치정보\\월정리_격자200m.csv',encoding='cp949')"
   ]
  },
  {
   "cell_type": "markdown",
   "metadata": {},
   "source": [
    "격자"
   ]
  },
  {
   "cell_type": "code",
   "execution_count": null,
   "metadata": {},
   "outputs": [],
   "source": [
    "df1=pd.DataFrame()\n",
    "WW=WW.iloc[:,0]\n",
    "for i in list(WW):\n",
    "    b=df[df[\"BLK\"].values==i].index\n",
    "    a=b.values\n",
    "    list4 = a.tolist()\n",
    "    for a in list4:\n",
    "        df1.append(df.iloc[a,:])\n",
    "\n",
    "Tour=df1[df1[\"TOUR_GB\"] == \"도민\"].index\n",
    "df1=df1.drop(Tour)\n",
    "\n"
   ]
  },
  {
   "cell_type": "markdown",
   "metadata": {},
   "source": [
    "성별+연령대"
   ]
  },
  {
   "cell_type": "code",
   "execution_count": 8,
   "metadata": {},
   "outputs": [],
   "source": [
    "df=NW[[\"TA_YM\",\"SEX_CCD\",\"AMT_CORR\"]]\n",
    "#df[\"TA_YM\"]=df[\"TA_YM\"].astype(str)\n",
    "#df1 = df[df[\"TA_YM\"].str.contains(\"2013\")]\n",
    "#df1[\"TA_YM\"]=df1[\"TA_YM\"].astype(\"int\") \n",
    "df2=df.groupby([\"TA_YM\",\"SEX_CCD\"]).sum()\n",
    "df2=df2.reset_index()\n",
    "df2=df2[[\"TA_YM\",\"SEX_CCD\",\"AMT_CORR\"]]\n",
    "\n",
    "#a = df2[df2[\"SEX_CCD\"] == \"M\"].index\n",
    "#for i in a:\n",
    "#    df3=df2.iloc[a,:]\n",
    "df2.to_csv(r'C:\\Users\\user\\Desktop\\월.csv',encoding='cp949')"
   ]
  },
  {
   "cell_type": "code",
   "execution_count": 10,
   "metadata": {},
   "outputs": [
    {
     "data": {
      "text/html": [
       "<div>\n",
       "<style scoped>\n",
       "    .dataframe tbody tr th:only-of-type {\n",
       "        vertical-align: middle;\n",
       "    }\n",
       "\n",
       "    .dataframe tbody tr th {\n",
       "        vertical-align: top;\n",
       "    }\n",
       "\n",
       "    .dataframe thead th {\n",
       "        text-align: right;\n",
       "    }\n",
       "</style>\n",
       "<table border=\"1\" class=\"dataframe\">\n",
       "  <thead>\n",
       "    <tr style=\"text-align: right;\">\n",
       "      <th></th>\n",
       "      <th>TA_YM</th>\n",
       "      <th>SEX_CCD</th>\n",
       "      <th>AMT_CORR</th>\n",
       "    </tr>\n",
       "  </thead>\n",
       "  <tbody>\n",
       "    <tr>\n",
       "      <th>0</th>\n",
       "      <td>201301</td>\n",
       "      <td>F</td>\n",
       "      <td>10502376.0</td>\n",
       "    </tr>\n",
       "    <tr>\n",
       "      <th>1</th>\n",
       "      <td>201301</td>\n",
       "      <td>M</td>\n",
       "      <td>5073222.0</td>\n",
       "    </tr>\n",
       "    <tr>\n",
       "      <th>2</th>\n",
       "      <td>201302</td>\n",
       "      <td>F</td>\n",
       "      <td>10716293.0</td>\n",
       "    </tr>\n",
       "    <tr>\n",
       "      <th>3</th>\n",
       "      <td>201302</td>\n",
       "      <td>M</td>\n",
       "      <td>7832165.0</td>\n",
       "    </tr>\n",
       "    <tr>\n",
       "      <th>4</th>\n",
       "      <td>201303</td>\n",
       "      <td>F</td>\n",
       "      <td>10916580.0</td>\n",
       "    </tr>\n",
       "    <tr>\n",
       "      <th>...</th>\n",
       "      <td>...</td>\n",
       "      <td>...</td>\n",
       "      <td>...</td>\n",
       "    </tr>\n",
       "    <tr>\n",
       "      <th>139</th>\n",
       "      <td>202110</td>\n",
       "      <td>M</td>\n",
       "      <td>510063552.0</td>\n",
       "    </tr>\n",
       "    <tr>\n",
       "      <th>140</th>\n",
       "      <td>202111</td>\n",
       "      <td>F</td>\n",
       "      <td>466025628.0</td>\n",
       "    </tr>\n",
       "    <tr>\n",
       "      <th>141</th>\n",
       "      <td>202111</td>\n",
       "      <td>M</td>\n",
       "      <td>424713338.0</td>\n",
       "    </tr>\n",
       "    <tr>\n",
       "      <th>142</th>\n",
       "      <td>202112</td>\n",
       "      <td>F</td>\n",
       "      <td>353234588.0</td>\n",
       "    </tr>\n",
       "    <tr>\n",
       "      <th>143</th>\n",
       "      <td>202112</td>\n",
       "      <td>M</td>\n",
       "      <td>365602475.0</td>\n",
       "    </tr>\n",
       "  </tbody>\n",
       "</table>\n",
       "<p>144 rows × 3 columns</p>\n",
       "</div>"
      ],
      "text/plain": [
       "      TA_YM SEX_CCD     AMT_CORR\n",
       "0    201301       F   10502376.0\n",
       "1    201301       M    5073222.0\n",
       "2    201302       F   10716293.0\n",
       "3    201302       M    7832165.0\n",
       "4    201303       F   10916580.0\n",
       "..      ...     ...          ...\n",
       "139  202110       M  510063552.0\n",
       "140  202111       F  466025628.0\n",
       "141  202111       M  424713338.0\n",
       "142  202112       F  353234588.0\n",
       "143  202112       M  365602475.0\n",
       "\n",
       "[144 rows x 3 columns]"
      ]
     },
     "execution_count": 10,
     "metadata": {},
     "output_type": "execute_result"
    }
   ],
   "source": [
    "df2"
   ]
  },
  {
   "cell_type": "code",
   "execution_count": null,
   "metadata": {},
   "outputs": [],
   "source": [
    "for i in NW.iloc[:,11]:\n",
    "    if i in G_R:\n",
    "        NW[\"IDCS_CD\"] = NW[\"IDCS_CD\"].replace(i, \"일반음식점업\")\n",
    "    elif i in R_R:\n",
    "        NW[\"IDCS_CD\"] = NW[\"IDCS_CD\"].replace(i, \"기타음식점업\")\n",
    "    elif i in A_F:\n",
    "        NW[\"IDCS_CD\"] = NW[\"IDCS_CD\"].replace(i, \"숙박시설업\")\n",
    "    elif i in R_S:\n",
    "        NW[\"IDCS_CD\"] = NW[\"IDCS_CD\"].replace(i, \"소매업\")\n",
    "\n"
   ]
  },
  {
   "cell_type": "markdown",
   "metadata": {},
   "source": [
    "거주지별 "
   ]
  },
  {
   "cell_type": "code",
   "execution_count": null,
   "metadata": {},
   "outputs": [],
   "source": [
    "def toJeju(NW):\n",
    "    list1 = [2013,2015,2017,2019,2020,2021]\n",
    "    data=NW[[\"TA_YM\",\"C_SIDO_NM\",\"AMT_CORR\"]]\n",
    "    to=pd.DataFrame()\n",
    "    for i in list1:\n",
    "        data[\"TA_YM\"]=data[\"TA_YM\"].astype(str)\n",
    "        data1 = data[data[\"TA_YM\"].str.contains(\"%s\"%i)]\n",
    "        data1[\"TA_YM\"]=data1[\"TA_YM\"].astype(\"int\")\n",
    "        data2=data1.groupby(\"C_SIDO_NM\").sum()\n",
    "        data2=data2.reset_index()\n",
    "        to[\"지역\"] = data2[\"C_SIDO_NM\"]\n",
    "        to[\"%s\"%i] =data2.iloc[:,2].values\n",
    "    to.iloc[:,0:]\n",
    "    to.to_csv(r'C:\\Users\\user\\Desktop\\거주지.csv',encoding=\"cp949\")\n",
    "toJeju(NW)"
   ]
  },
  {
   "cell_type": "markdown",
   "metadata": {},
   "source": [
    "업종"
   ]
  },
  {
   "cell_type": "code",
   "execution_count": 3,
   "metadata": {},
   "outputs": [],
   "source": [
    "G_R= [561,5611,56111,56112,56113,56114,56119,562,5621,56211,56212,56219]# General restaurant, 일반음식점\n",
    "R_R= [5619,56191,56192,56193,56194,56199,5622,56220] #resting restaurant, 기타음식점\n",
    "A_F= [551,5511,55111,55112,55113,55119,559,5590,55909] #accommodation facility, 숙박시설\n",
    "R_S = [47,471,4711,47111,47119,4712,47121,47122,47129,4719,\n",
    "                    47190,472,4721,47211,47212,47213,47214,47215,47216,\n",
    "                    47219,4722,47221,47222,474,476,4761,47611,4764,47640,\n",
    "                    477,4771,47711,47712,478,4781,47813,4784,47841,47842,4785,47852,4786] #retail store, 소매업"
   ]
  },
  {
   "cell_type": "code",
   "execution_count": 6,
   "metadata": {},
   "outputs": [],
   "source": [
    "NW = NW.iloc[:,2:]"
   ]
  },
  {
   "cell_type": "code",
   "execution_count": 10,
   "metadata": {},
   "outputs": [],
   "source": [
    "for i in NW.iloc[:,11]:\n",
    "    if i in G_R:\n",
    "        NW[\"IDCS_CD\"] = NW[\"IDCS_CD\"].replace(i, \"일반음식점업\")\n",
    "    elif i in R_R:\n",
    "        NW[\"IDCS_CD\"] = NW[\"IDCS_CD\"].replace(i, \"기타음식점업\")\n",
    "    elif i in A_F:\n",
    "        NW[\"IDCS_CD\"] = NW[\"IDCS_CD\"].replace(i, \"숙박시설업\")\n",
    "    elif i in R_S:\n",
    "        NW[\"IDCS_CD\"] = NW[\"IDCS_CD\"].replace(i, \"소매업\")\n",
    "\n"
   ]
  },
  {
   "cell_type": "code",
   "execution_count": null,
   "metadata": {},
   "outputs": [],
   "source": [
    "NW.to_csv(r'C:\\Users\\user\\Desktop\\월정리.csv',encoding=\"cp949\")"
   ]
  },
  {
   "cell_type": "markdown",
   "metadata": {},
   "source": [
    "그리드 업종"
   ]
  },
  {
   "cell_type": "code",
   "execution_count": null,
   "metadata": {},
   "outputs": [],
   "source": [
    "def WTF (data,input):\n",
    "    df=data[[\"TA_YM\",\"BLK\",\"IDCS_CD\",\"AMT_CORR\"]]\n",
    "    df1 =df.groupby(['TA_YM',\"BLK\",'IDCS_CD']).sum()\n",
    "    df1=df1.reset_index()\n",
    "    df1[\"TA_YM\"]=df1[\"TA_YM\"].astype(str)\n",
    "    df2 = df1[df1[\"TA_YM\"].str.contains(\"%s\"%input)]\n",
    "    df2[\"TA_YM\"]=df2[\"TA_YM\"].astype(\"int\") \n",
    "    for i in df2.iloc[:,2]:\n",
    "        if i in G_R:\n",
    "            df2[\"IDCS_CD\"] = df2[\"IDCS_CD\"].replace(i, \"일반음식점업\")\n",
    "        elif i in R_R:\n",
    "            df2[\"IDCS_CD\"] = df2[\"IDCS_CD\"].replace(i, \"기타음식점업\")\n",
    "        elif i in A_F:\n",
    "            df2[\"IDCS_CD\"] = df2[\"IDCS_CD\"].replace(i, \"숙박시설업\")\n",
    "        elif i in R_S:\n",
    "            df2[\"IDCS_CD\"] = df2[\"IDCS_CD\"].replace(i, \"소매업\")   \n",
    "    df2 =df2[[\"BLK\",'IDCS_CD','AMT_CORR']]\n",
    "    na=df2[(df2[\"IDCS_CD\"] != \"일반음식점업\") & (df2[\"IDCS_CD\"] != \"기타음식점업\")&\n",
    "        (df2[\"IDCS_CD\"] != \"숙박시설업\")&(df2[\"IDCS_CD\"] != \"소매업\")].index\n",
    "\n",
    "    df2=df2.drop(na)\n",
    "    YM=df2[\"BLK\"].drop_duplicates()\n",
    "    IDCS=df2[\"IDCS_CD\"].drop_duplicates()\n",
    "        \n",
    "    for b in IDCS:\n",
    "        fin_R_S=df2[df2[\"IDCS_CD\"]==\"%s\"%b].groupby(['BLK']).sum()\n",
    "        fin_R_S=fin_R_S.reset_index()\n",
    "        fin_CO=pd.DataFrame()\n",
    "        fin_CO[\"GridName\"]=YM\n",
    "        for i in YM:\n",
    "            if i in fin_R_S[\"BLK\"].values:\n",
    "                pass\n",
    "            elif i not in fin_R_S[\"BLK\"].values:\n",
    "                small_s = {i: (i,\"%s\"%b,0)}\n",
    "                for col,ro in small_s.items():\n",
    "                    df2.loc[col] = ro\n",
    "                    df2=df2.sort_values(by=['BLK'])\n",
    "                    df2=df2.reset_index(drop=True)\n",
    "    \n",
    "    \n",
    "    \n",
    "    for a in IDCS:\n",
    "        fin_CO.loc[:,\"%s\" %a]= df2[df2[\"IDCS_CD\"]== \"%s\" %a].groupby(['BLK'])[\"AMT_CORR\"].sum().values\n",
    "    fin_CO.to_csv('C:\\\\Users\\\\user\\\\Desktop\\\\월정리\\\\그리드 업종_%s.csv'%input,encoding='cp949')\n",
    "    \n",
    "WTF(NW,2021)"
   ]
  },
  {
   "cell_type": "markdown",
   "metadata": {},
   "source": [
    "그리드 연령"
   ]
  },
  {
   "cell_type": "code",
   "execution_count": null,
   "metadata": {},
   "outputs": [],
   "source": [
    "def age(NW,input,a):    \n",
    "    df=NW[[\"TA_YM\",\"BLK\",\"AGE_GB\",\"SEX_CCD\",\"AMT_CORR\"]]\n",
    "\n",
    "\n",
    "    \n",
    "    df=df[df[\"SEX_CCD\"]==\"%s\"%a]\n",
    "    df1 =df.groupby(['TA_YM',\"BLK\",'AGE_GB']).sum()\n",
    "    df1=df1.reset_index()\n",
    "    df1[\"TA_YM\"]=df1[\"TA_YM\"].astype(str)\n",
    "    df2 = df1[df1[\"TA_YM\"].str.contains(\"%s\"%input)]\n",
    "    \n",
    "    df2=df2[[\"BLK\",\"AGE_GB\",\"AMT_CORR\"]]\n",
    "    dfl=df2[\"BLK\"].drop_duplicates() ## 중복행 처리\n",
    "    AGE_Z=df2[\"AGE_GB\"].drop_duplicates()\n",
    "\n",
    "    for b in AGE_Z:\n",
    "        fin_R_S=df2[df2[\"AGE_GB\"]==\"%s\"%b].groupby(['BLK']).sum()\n",
    "        fin_R_S=fin_R_S.reset_index()\n",
    "        fin_CO=pd.DataFrame()\n",
    "        fin_CO[\"GridName\"]=dfl\n",
    "        for i in dfl:\n",
    "            if i in fin_R_S[\"BLK\"].values:\n",
    "                pass\n",
    "            elif i not in fin_R_S[\"BLK\"].values:\n",
    "                small_s = {i: (i,\"%s\"%b,0)}\n",
    "                for col,ro in small_s.items():\n",
    "                    df2.loc[col] = ro\n",
    "                    df2=df2.sort_values(by=['BLK'])\n",
    "                    df2=df2.reset_index(drop=True)\n",
    "    df2[\"AGE_GB\"] = df2[\"AGE_GB\"].astype(\"int\")\n",
    "    AG_2=df2[(df2[\"AGE_GB\"]==1)|(df2[\"AGE_GB\"]==2)].groupby(['BLK']).sum()\n",
    "    AG_6=df2[(df2[\"AGE_GB\"]==6)|(df2[\"AGE_GB\"]==7)|(df2[\"AGE_GB\"]==8)].groupby(['BLK']).sum()\n",
    "    AG_3=df2[(df2[\"AGE_GB\"]==3)].groupby(['BLK']).sum()\n",
    "    AG_4=df2[(df2[\"AGE_GB\"]==4)].groupby(['BLK']).sum()\n",
    "    AG_5=df2[(df2[\"AGE_GB\"]==5)].groupby(['BLK']).sum()\n",
    "    AG_2=AG_2.reset_index()\n",
    "    AG_6=AG_6.reset_index()\n",
    "    AG_3=AG_3.reset_index()\n",
    "    AG_4=AG_4.reset_index()\n",
    "    AG_5=AG_5.reset_index()\n",
    "    fin_AGE=pd.DataFrame()\n",
    "    fin_AGE[\"GridName\"]=dfl\n",
    "    fin_AGE=fin_AGE.sort_values(by=['GridName'])\n",
    "    fin_AGE=fin_AGE.reset_index(drop=True)\n",
    "    fin_AGE[\"20대 이하\"] =AG_2.iloc[:,2].values\n",
    "    fin_AGE[\"60대 이상\"] =AG_6.iloc[:,2].values\n",
    "    fin_AGE[\"30대\"] =AG_3.iloc[:,2].values\n",
    "    fin_AGE[\"40대\"] =AG_4.iloc[:,2].values\n",
    "    fin_AGE[\"50대\"] =AG_5.iloc[:,2].values\n",
    "    fin_AGE.to_csv('C:\\\\Users\\\\user\\\\Desktop\\\\그리드 연령+성별 %s 여.csv'%input,encoding='cp949')\n",
    "\n",
    "age(NW,input=\"2021\",a=\"F\")"
   ]
  },
  {
   "cell_type": "markdown",
   "metadata": {},
   "source": [
    "업종별"
   ]
  },
  {
   "cell_type": "code",
   "execution_count": null,
   "metadata": {},
   "outputs": [],
   "source": [
    "df4 =df2.groupby(['TA_YM','IDCS_CD']).sum()\n",
    "df4=df4.reset_index()\n",
    "for i in df4.iloc[:,1]:\n",
    "    if i in G_R:\n",
    "        df4[\"IDCS_CD\"] = df4[\"IDCS_CD\"].replace(i, \"일반음식점\")\n",
    "    elif i in R_R:\n",
    "        df4[\"IDCS_CD\"] = df4[\"IDCS_CD\"].replace(i, \"기타음식점\")\n",
    "    elif i in A_F:\n",
    "        df4[\"IDCS_CD\"] = df4[\"IDCS_CD\"].replace(i, \"숙박시설\")\n",
    "    elif i in R_S:\n",
    "        df4[\"IDCS_CD\"] = df4[\"IDCS_CD\"].replace(i, \"소매업\")   \n",
    "df4 =df4[['TA_YM','IDCS_CD','AMT_CORR',\"USECT_CORR\"]]\n",
    "na=df4[(df4[\"IDCS_CD\"] != \"일반음식점\") & (df4[\"IDCS_CD\"] != \"기타음식점\")&\n",
    "    (df4[\"IDCS_CD\"] != \"숙박시설\")&(df4[\"IDCS_CD\"] != \"소매업\")].index\n",
    "\n",
    "df4=df4.drop(na)\n",
    "df4"
   ]
  },
  {
   "cell_type": "code",
   "execution_count": null,
   "metadata": {},
   "outputs": [],
   "source": [
    "YM=df4[\"TA_YM\"].drop_duplicates()\n",
    "IDCS=df4[\"IDCS_CD\"].drop_duplicates()\n",
    "    \n",
    "for b in IDCS:\n",
    "    fin_R_S=df4[df4[\"IDCS_CD\"]==\"%s\"%b].groupby(['TA_YM']).sum()\n",
    "    fin_R_S=fin_R_S.reset_index()\n",
    "    fin_CO=pd.DataFrame()\n",
    "    fin_CO[\"연도\"]=YM\n",
    "    for i in YM:\n",
    "        if i in fin_R_S[\"TA_YM\"].values:\n",
    "            pass\n",
    "        elif i not in fin_R_S[\"TA_YM\"].values:\n",
    "            small_s = {i: (i,\"%s\"%b,0,0)}\n",
    "            for col,ro in small_s.items():\n",
    "                df4.loc[col] = ro\n",
    "                df4=df4.sort_values(by=['TA_YM'])\n",
    "                df4=df4.reset_index(drop=True)\n",
    "\n",
    "\n",
    "\n",
    "for a in IDCS:\n",
    "    fin_CO.loc[:,\"%s\" %a]= df4[df4[\"IDCS_CD\"]== \"%s\" %a].groupby(['TA_YM'])[\"AMT_CORR\"].sum().values\n",
    "    \n",
    "fin_CO =fin_CO[[\"연도\",\"일반음식점\",\"기타음식점\",\"숙박시설\",\"소매업\"]]"
   ]
  },
  {
   "cell_type": "code",
   "execution_count": null,
   "metadata": {},
   "outputs": [],
   "source": [
    "fin_CO.to_csv(r'C:\\Users\\user\\Desktop\\업종령별.csv',encoding='cp949')"
   ]
  },
  {
   "cell_type": "markdown",
   "metadata": {},
   "source": [
    "연령별"
   ]
  },
  {
   "cell_type": "code",
   "execution_count": null,
   "metadata": {},
   "outputs": [],
   "source": [
    "df5 =df2.groupby(['TA_YM',\"AGE_GB\"]).sum()\n",
    "df5=df5.reset_index()\n",
    "df5 =df5[['TA_YM','AGE_GB',\"AMT_CORR\"]]"
   ]
  },
  {
   "cell_type": "code",
   "execution_count": null,
   "metadata": {},
   "outputs": [],
   "source": [
    "\n",
    "AG_2=df5[(df5[\"AGE_GB\"]==1)|(df5[\"AGE_GB\"]==2)].groupby(['TA_YM']).sum()\n",
    "AG_6=df5[(df5[\"AGE_GB\"]==6)|(df5[\"AGE_GB\"]==7)|(df5[\"AGE_GB\"]==8)].groupby(['TA_YM']).sum()\n",
    "AG_2=AG_2.reset_index()\n",
    "AG_6=AG_6.reset_index()\n",
    "\n",
    "dfl=df5[\"TA_YM\"].drop_duplicates() ## 중복행 처리\n",
    "fin_AGE=pd.DataFrame()\n",
    "fin_AGE[\"연도\"]=dfl\n",
    "\n",
    "for i in range(1,9):\n",
    "    if i ==1 or i==2:\n",
    "        fin_AGE[\"20대 이하\"] =0\n",
    "        #fin_AGE[\"20대 이하횟수\"]=0\n",
    "        fin_AGE[\"20대 이하\"] =AG_2.iloc[:,2].values\n",
    "        #fin_AGE[\"20대 이하횟수\"] =AG_2.iloc[:,3].values\n",
    "    elif i == 6 or i== 7 or i== 8:\n",
    "        fin_AGE[\"60대 이상\"] =0\n",
    "        #fin_AGE[\"60대 이상횟수\"] =0\n",
    "        fin_AGE[\"60대 이상\"] =AG_6.iloc[:,2].values\n",
    "        #fin_AGE[\"60대 이상횟수\"] =AG_6.iloc[:,3].values\n",
    "    else:\n",
    "        fin_AGE[\"%d0대\" % i]=0\n",
    "        #fin_AGE[\"%d0대횟수\" % i]=0\n",
    "        fin_AGE[\"%i0대\" %i]=df5.iloc[df5[df5[\"AGE_GB\"] == i].index,2].values\n",
    "        #fin_AGE[\"%i0대횟수\" %i]=df5.iloc[df5[df5[\"AGE_GB\"] == i].index,3].values\n"
   ]
  },
  {
   "cell_type": "code",
   "execution_count": null,
   "metadata": {},
   "outputs": [],
   "source": [
    "fin_AGE"
   ]
  },
  {
   "cell_type": "code",
   "execution_count": null,
   "metadata": {},
   "outputs": [],
   "source": [
    "fin_AGE.to_csv(r'C:\\Users\\user\\Desktop\\creaditcard_P_2020_연령별.csv',encoding='cp949')"
   ]
  },
  {
   "cell_type": "code",
   "execution_count": null,
   "metadata": {},
   "outputs": [],
   "source": []
  },
  {
   "cell_type": "markdown",
   "metadata": {},
   "source": [
    "문광"
   ]
  },
  {
   "cell_type": "code",
   "execution_count": null,
   "metadata": {},
   "outputs": [],
   "source": [
    "import pandas as pd\n",
    "#card_07= pd.read_csv(r'C:\\Users\\user\\Desktop\\카드 데이터\\card_data\\2022 정제\\creaditcard_P_2022_07.csv',encoding='cp949')\n",
    "#card_09= pd.read_csv(r'C:\\Users\\user\\Desktop\\카드 데이터\\card_data\\2022 정제\\creaditcard_P_2022_09.csv',encoding='cp949')\n",
    "#card_08= pd.read_csv(r'C:\\Users\\user\\Desktop\\카드 데이터\\card_data\\2022 정제\\creaditcard_P_2022_08.csv',encoding='cp949')\n",
    "#card_F_09= pd.read_csv(r'C:\\Users\\user\\Desktop\\카드 데이터\\card_data\\2022 정제\\외국인\\creaditcard_F_2022_09.csv',encoding='cp949')\n",
    "#card_F_08= pd.read_csv(r'C:\\Users\\user\\Desktop\\카드 데이터\\card_data\\2022 정제\\외국인\\creaditcard_F_2022_08.csv',encoding='cp949')\n",
    "#card_F_07= pd.read_csv(r'C:\\Users\\user\\Desktop\\카드 데이터\\card_data\\2022 정제\\외국인\\creaditcard_F_2022_07.csv',encoding='cp949')\n",
    "#df= pd.read_csv(r'C:\\Users\\user\\Desktop\\카드 데이터\\card_data\\2022 정제\\외국인\\creditcard_F_2019.csv',encoding='cp949')\n",
    "\n",
    "#df = pd.read_csv(r'C:\\Users\\user\\Desktop\\카드 데이터\\card_data\\2019 정제\\creaditcard_P_2019.csv',encoding='cp949')\n",
    "#df = pd.read_csv(r'C:\\Users\\user\\Desktop\\카드 데이터\\card_data\\2020 정제\\creaditcard_P_2020.csv',encoding='cp949')\n",
    "\n",
    "\n",
    "#df=pd.concat([card_07,card_08,card_09])\n",
    "\n",
    "#df=pd.concat([card_F_09,card_F_08,card_F_07])"
   ]
  },
  {
   "cell_type": "code",
   "execution_count": null,
   "metadata": {},
   "outputs": [],
   "source": [
    "df1=df[(df[\"M_DONG_NM\"]==\"연동\")]\n",
    "\n",
    "\n",
    "df2= df1[(df1[\"TA_YM\"]==201908)|(df1[\"TA_YM\"]==201909)|(df1[\"TA_YM\"]==201907)]"
   ]
  },
  {
   "cell_type": "code",
   "execution_count": null,
   "metadata": {},
   "outputs": [],
   "source": [
    "df1 = df[(df['BLK'] == 'Grid252_361') | (df['BLK'] == 'Grid254_361') |(df['BLK'] == 'Grid256_361')|(df['BLK'] == 'Grid255_361')|\n",
    "        (df['BLK'] == 'Grid257_361')|(df['BLK'] == 'Grid253_361')|(df['BLK'] == 'Grid252_362')|(df['BLK'] == 'Grid254_362')|\n",
    "        (df['BLK'] == 'Grid253_362')|(df['BLK'] == 'Grid255_362')|(df['BLK'] == 'Grid257_362')|(df['BLK'] == 'Grid256_362')|\n",
    "        (df['BLK'] == 'Grid252_363')|(df['BLK'] == 'Grid253_363')|(df['BLK'] == 'Grid255_363')|(df['BLK'] == 'Grid254_363')|\n",
    "        (df['BLK'] == 'Grid256_363')|(df['BLK'] == 'Grid257_363')|(df['BLK'] == 'Grid252_364')|(df['BLK'] == 'Grid253_364')|\n",
    "        (df['BLK'] == 'Grid254_364')|(df['BLK'] == 'Grid255_364')|(df['BLK'] == 'Grid256_364')|(df['BLK'] == 'Grid257_364')|\n",
    "        (df['BLK'] == 'Grid252_365')|(df['BLK'] == 'Grid253_365')|(df['BLK'] == 'Grid254_365')|(df['BLK'] == 'Grid256_365')|\n",
    "        (df['BLK'] == 'Grid257_365')|(df['BLK'] == 'Grid255_365')]\n",
    "        \n",
    "df1= df1[(df1[\"TA_YM\"]==202008)|(df1[\"TA_YM\"]==202009)]"
   ]
  },
  {
   "cell_type": "code",
   "execution_count": null,
   "metadata": {},
   "outputs": [],
   "source": [
    "df1 = df[(df['BLK'] == 'Grid237_375' ) | (df['BLK'] == 'Grid238_375') |(df['BLK'] == 'Grid239_375')|\n",
    "    (df['BLK'] == 'Grid240_375')|(df['BLK'] == 'Grid241_375')|(df['BLK'] == 'Grid242_375')|\n",
    "    (df['BLK'] == 'Grid237_376')|(df['BLK'] == 'Grid238_376')|(df['BLK'] == 'Grid239_376')|\n",
    "    (df['BLK'] == 'Grid240_376')|(df['BLK'] == 'Grid241_376')|(df['BLK'] == 'Grid242_376')|\n",
    "    (df['BLK'] == 'Grid237_377')|(df['BLK'] == 'Grid240_377')|(df['BLK'] == 'Grid238_377')|    \n",
    "    (df['BLK'] == 'Grid239_377')|(df['BLK'] == 'Grid241_377')|(df['BLK'] == 'Grid242_377')|\n",
    "    (df['BLK'] == 'Grid237_378')|(df['BLK'] == 'Grid239_378')|(df['BLK'] == 'Grid238_378')|\n",
    "    (df['BLK'] == 'Grid242_378')|(df['BLK'] == 'Grid240_378')|(df['BLK'] == 'Grid241_378')|\n",
    "    (df['BLK'] == 'Grid237_379')|(df['BLK'] == 'Grid238_379')|(df['BLK'] == 'Grid240_379')|\n",
    "    (df['BLK'] == 'Grid239_379')|(df['BLK'] == 'Grid242_379')|(df['BLK'] == 'Grid241_379')]"
   ]
  },
  {
   "cell_type": "code",
   "execution_count": null,
   "metadata": {},
   "outputs": [],
   "source": [
    "restauran =[561,5611,56111,56112,56113,56114,56119,5619,56191,\n",
    "                     56192,56193,56194,56199,56211,56212,562,5621,56211,56212,56219,5622,56220]\n",
    "\n",
    "art=[912,9022,90221,90222,9023,90231,90232,9112,91121,91136,9121,91210,9122,91221,\n",
    "      91222,91223,91229,9123,91231,91239,9124,91241,91249,9129,91291,91292,91293,91299]\n",
    "\n",
    "\n",
    "etc = [69110,752,7521,75211,75212,7529,75290,9611,96111,96112,96113,96119,9612,96121,96122,96129]\n",
    "\n",
    "accommodation =[51,5511,55111,55112,55113,55114,55119, 55909]\n",
    "\n",
    "retail=[47,471,4711,47111,47119,4712,47121,47122,47129,47130,4719,47190,472,4721,47211,47212,47213,47214,47215,\n",
    "            47216,47219,4722,47221,47222,4771,47711,47712,4784,47841,47842]"
   ]
  },
  {
   "cell_type": "code",
   "execution_count": null,
   "metadata": {},
   "outputs": [],
   "source": [
    "def industry(data,input):\n",
    "    data=data.iloc[:,2:]\n",
    "    domestic=data[data[\"TOUR_GB\"] == \"%s\"%input].index\n",
    "    data2=data.drop(domestic)\n",
    "    \n",
    "    data4 =data2.groupby(['TA_YM','IDCS_CD']).sum()\n",
    "    data4=data4.reset_index()\n",
    "\n",
    "\n",
    "    for i in data4.iloc[:,1]:\n",
    "        if i in restauran:\n",
    "            data4[\"IDCS_CD\"] = data4[\"IDCS_CD\"].replace(i, \"restauran\")\n",
    "        elif i in art:\n",
    "            data4[\"IDCS_CD\"] = data4[\"IDCS_CD\"].replace(i, \"art\")\n",
    "        elif i in etc:\n",
    "            data4[\"IDCS_CD\"] = data4[\"IDCS_CD\"].replace(i, \"etc\")\n",
    "        elif i in accommodation:\n",
    "            data4[\"IDCS_CD\"] = data4[\"IDCS_CD\"].replace(i, \"accommodation\")\n",
    "        elif i in retail:\n",
    "            data4[\"IDCS_CD\"] = data4[\"IDCS_CD\"].replace(i, \"retail\")    \n",
    "    \n",
    "    \n",
    "    data4 =data4[['TA_YM','IDCS_CD','AMT_CORR']]\n",
    "    na=data4[(data4[\"IDCS_CD\"] != \"restauran\") & (data4[\"IDCS_CD\"] != \"art\")&\n",
    "        (data4[\"IDCS_CD\"] != \"etc\")&(data4[\"IDCS_CD\"] != \"accommodation\")&(data4[\"IDCS_CD\"] != \"retail\")].index\n",
    "    data4=data4.drop(na)\n",
    "\n",
    "    YM=data4[\"TA_YM\"].drop_duplicates()\n",
    "    IDCS=data4[\"IDCS_CD\"].drop_duplicates()\n",
    "    \n",
    "    fin_CO=pd.DataFrame()\n",
    "    fin_CO[\"연도\"]=YM\n",
    "    for year in YM:\n",
    "        for word in IDCS:\n",
    "            if len(data4[(data4[\"TA_YM\"]==year) |data4[\"IDCS_CD\"]==word]) > 0:\n",
    "                pass\n",
    "            elif len(data4[(data4[\"TA_YM\"]==year) |data4[\"IDCS_CD\"]==word]) == 0:\n",
    "                small_s = {year: (year,\"%s\" %word,0)}\n",
    "            for col,ro in small_s.items():\n",
    "                data4.loc[col] = ro\n",
    "                data4=data4.sort_values(by=['TA_YM'])\n",
    "                data4=data4.reset_index(drop=True)\n",
    "\n",
    "    for a in IDCS:\n",
    "        fin_CO.loc[:,\"%s\" %a]= data4[data4[\"IDCS_CD\"]== \"%s\" %a].groupby(['TA_YM'])[\"AMT_CORR\"].sum().values\n",
    "    #for i,j in zip(list1,list2):\n",
    "    #    fin_CO.loc[:,\"%s\"%i]=df4[df4[\"IDCS_CD\"]== \"%s\"%j].groupby(['TA_YM'])[\"USECT_CORR\"].sum().values\n",
    "\n",
    "\n",
    "    fin_CO.to_csv('C:\\\\Users\\\\user\\\\Desktop\\\\삼다 %s 뺀거.csv'%input ,encoding='cp949')\n",
    "    \n",
    "\n",
    "industry(df1,input=\"도민\")"
   ]
  },
  {
   "cell_type": "markdown",
   "metadata": {},
   "source": [
    "문광 외국인"
   ]
  },
  {
   "cell_type": "code",
   "execution_count": null,
   "metadata": {},
   "outputs": [],
   "source": [
    "def industry(data):\n",
    "    data=data.iloc[:,2:]\n",
    "\n",
    "    data3 =data.groupby([\"TA_YM\",'IDCS_CD']).sum()\n",
    "    data3=data3.reset_index()\n",
    "    data4 =data3[[\"TA_YM\",'IDCS_CD',\"AMT_CORR\"]]\n",
    "    \n",
    "    for i in data4.iloc[:,1]:\n",
    "        if i in restauran:\n",
    "            data4[\"IDCS_CD\"] = data4[\"IDCS_CD\"].replace(i, \"restauran\")\n",
    "        #elif i in transport:\n",
    "        #    data4[\"IDCS_CD\"] = data4[\"IDCS_CD\"].replace(i, \"transport\")\n",
    "        elif i in art:\n",
    "            data4[\"IDCS_CD\"] = data4[\"IDCS_CD\"].replace(i, \"art\")\n",
    "        elif i in etc:\n",
    "            data4[\"IDCS_CD\"] = data4[\"IDCS_CD\"].replace(i, \"etc\")\n",
    "        elif i in accommodation:\n",
    "            data4[\"IDCS_CD\"] = data4[\"IDCS_CD\"].replace(i, \"accommodation\")\n",
    "        elif i in retail:\n",
    "            data4[\"IDCS_CD\"] = data4[\"IDCS_CD\"].replace(i, \"retail\")    \n",
    "    data4 =data4[['TA_YM','IDCS_CD','AMT_CORR']]\n",
    "    \n",
    "    na=data4[(data4[\"IDCS_CD\"] != \"restauran\") & (data4[\"IDCS_CD\"] != \"art\")&\n",
    "        (data4[\"IDCS_CD\"] != \"etc\")&(data4[\"IDCS_CD\"] != \"accommodation\")&(data4[\"IDCS_CD\"] != \"retail\")].index\n",
    "    data4=data4.drop(na)\n",
    "\n",
    "    YM=data4[\"TA_YM\"].drop_duplicates()\n",
    "    IDCS=data4[\"IDCS_CD\"].drop_duplicates()\n",
    "\n",
    "    fin_CO=pd.DataFrame()\n",
    "    fin_CO[\"연도\"]=YM\n",
    "    for year in YM:\n",
    "        for word in IDCS:\n",
    "            if len(data4[(data4[\"TA_YM\"]==year) |data4[\"IDCS_CD\"]==\"etc\"]) > 0:\n",
    "                pass\n",
    "            elif len(data4[(data4[\"TA_YM\"]==year) |data4[\"IDCS_CD\"]==\"etc\"]) == 0:\n",
    "                small_s = {year: (year,\"%s\" %word,0)}\n",
    "            for col,ro in small_s.items():\n",
    "                data4.loc[col] = ro\n",
    "                data4=data4.sort_values(by=['TA_YM'])\n",
    "                data4=data4.reset_index(drop=True)\n",
    "\n",
    "    for a in IDCS:\n",
    "        fin_CO.loc[:,\"%s\" %a]= data4[data4[\"IDCS_CD\"]== \"%s\" %a].groupby(['TA_YM'])[\"AMT_CORR\"].sum().values\n",
    "\n",
    "    fin_CO.to_csv('C:\\\\Users\\\\user\\\\Desktop\\\\산지 외국인.csv',encoding='cp949')\n",
    "\n",
    "\n",
    "industry(df2)"
   ]
  }
 ],
 "metadata": {
  "kernelspec": {
   "display_name": "Python 3.9.12 ('base')",
   "language": "python",
   "name": "python3"
  },
  "language_info": {
   "codemirror_mode": {
    "name": "ipython",
    "version": 3
   },
   "file_extension": ".py",
   "mimetype": "text/x-python",
   "name": "python",
   "nbconvert_exporter": "python",
   "pygments_lexer": "ipython3",
   "version": "3.9.12"
  },
  "orig_nbformat": 4,
  "vscode": {
   "interpreter": {
    "hash": "ad2bdc8ecc057115af97d19610ffacc2b4e99fae6737bb82f5d7fb13d2f2c186"
   }
  }
 },
 "nbformat": 4,
 "nbformat_minor": 2
}
